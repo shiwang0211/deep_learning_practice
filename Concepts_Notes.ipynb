{
 "cells": [
  {
   "cell_type": "markdown",
   "metadata": {},
   "source": [
    "# Some key concepts "
   ]
  },
  {
   "cell_type": "markdown",
   "metadata": {},
   "source": [
    "## **Background**\n",
    "- feature engineering and SVM\n",
    "- conputational speed and GPU\n",
    "- dataset size and internet, orders of magnitude more data\n",
    "- Framework such as TF, Keras\n",
    "\n",
    "**NN as universal approximators**\n",
    "- More neurons --> more complicated functions\n",
    "- Regularization to prevent overfitting"
   ]
  },
  {
   "cell_type": "markdown",
   "metadata": {},
   "source": [
    "## **Activation Function**\n",
    "- Sigmoid\n",
    "    * Saturated at 0/1 and kills gradients (derivative -> 0)\n",
    "    * Output not zero-centred; for next layer: f = wx + b, x>0, df/dw same sign for all w; zig-zag update trajectory\n",
    "    \n",
    "    \n",
    "- Tanh\n",
    "    * Still kills gradients\n",
    "    * But: zero-cented\n",
    "    \n",
    "    \n",
    "- ReLU\n",
    "    * Non-saturated, linearity --> Accelerate convergence\n",
    "    * Cheap computation\n",
    "    * But: Can die; never activate\n",
    "    * Extension: Leaky ReLU, maxout\n",
    "\n",
    "\n",
    "- Leaky ReLU\n",
    "\n",
    "<img src=\"https://cdn-images-1.medium.com/max/1200/1*ZafDv3VUm60Eh10OeJu1vw.png\" width=\"500\">\n",
    "\n",
    "\n",
    "## **Regularization**\n",
    "- L1/L2/ElasticNet\n",
    "- Max Norm constraint\n",
    "- Drop Out layer\n",
    "\n",
    "## **Hyperparameter Optimization**\n",
    "- Single validation set > cross validation in practice\n",
    "- Random search instead of grid search within a range\n",
    "- Metric selection: accuracy, RMSE, etc.\n",
    "- Ideally: Training + Validation + Test, where validation set is to *\"learn\"* hyperparameters. \n",
    "    - Think of hyperparam tuning itself a learning algorithm and validation set becomes \"training set\" in the new problem.\n",
    "\n",
    "\n",
    "- Important hyperparams:\n",
    "    - Network structure\n",
    "    - Batch size\n",
    "    - Learing rate\n",
    "\n"
   ]
  },
  {
   "cell_type": "markdown",
   "metadata": {},
   "source": [
    "## **Weights Initialization**"
   ]
  },
  {
   "cell_type": "markdown",
   "metadata": {},
   "source": [
    "\n",
    "- **All zero**: \n",
    "    - Wrong: neuron outputs and gradients would be same; same update\n",
    "    - We don't want the symmetric structure of weights\n",
    "    - The model will be equivalent to linear model since each weight *w* has the same update\n",
    "    \n",
    "    \n",
    "- **Number to small**: \n",
    "    - small gradients for hidden layer inputs ($\\frac{\\partial L}{\\partial h} = W$)\n",
    "    - ***Gradient Vanishing*** when flowing backwafrd, leading to convergence of the cost before it has reached the minimum value.\n",
    "\n",
    "\n",
    "- **Number to big**: \n",
    "    - ***Gradient Exploding*** problem may happen, and cause the cost to oscillate around its minimum value.\n",
    "    - will also be a problem is activation functions like sigmoid is used since the **WX** may fall into zero-gradient region\n",
    "\n",
    "\n",
    "- **Preferred: All neuron with a good output distribution to feed next layer**:\n",
    "    - Benefit: effective back-propagation for weights\n",
    "    - w = np.random.randn(n) / sqrt(n), where n is number of inputs. In other words, the standard error $std(w) = \\sqrt\\frac {1}{n}$\n",
    "    - It can be proved that Var(S) = Var(WX) = Var(X)\n",
    "    - It helps get a wide range of output value for each hidden layer\n",
    "    - For activation functions ReLU, see below: $std(w) = \\sqrt\\frac {2}{n}$"
   ]
  },
  {
   "cell_type": "markdown",
   "metadata": {},
   "source": [
    "- ***To sum up, the goal is to***:\n",
    "    - The mean of the activations should be zero.\n",
    "    - The variance of the activations should stay the same across every layer"
   ]
  },
  {
   "cell_type": "markdown",
   "metadata": {},
   "source": [
    "- **An example**\n",
    "    - An example shows how weight initialization helps keep the same distribution of each layer's output."
   ]
  },
  {
   "cell_type": "code",
   "execution_count": 3,
   "metadata": {},
   "outputs": [],
   "source": [
    "import numpy as np\n",
    "import matplotlib.pyplot as plt\n",
    "\n",
    "node_num = 100    \n",
    "    \n",
    "def sigmoid(x):\n",
    "    return 1 / (1 + np.exp(-x))\n",
    "\n",
    "def ReLU(x):\n",
    "    return x * (x > 0)\n",
    "\n",
    "def get_activation(w, activation):\n",
    "    x = np.random.randn(10000, 100) \n",
    "    hidden_layer_size = 5\n",
    "    activations = {}\n",
    "    for i in range(hidden_layer_size):\n",
    "        if i != 0:\n",
    "            x = activations[i-1]\n",
    "        z = np.dot(x, w)\n",
    "        if activation == \"sigmoid\":\n",
    "            a = sigmoid(z)\n",
    "        elif activation == \"ReLU\":\n",
    "            a = ReLU(z)\n",
    "        activations[i] = a\n",
    "    return activations"
   ]
  },
  {
   "cell_type": "code",
   "execution_count": 8,
   "metadata": {},
   "outputs": [
    {
     "data": {
      "image/png": "[encoded data removed]",
      "text/plain": [
       "<Figure size 432x288 with 10 Axes>"
      ]
     },
     "metadata": {
      "needs_background": "light"
     },
     "output_type": "display_data"
    }
   ],
   "source": [
    "w = np.random.randn(node_num, node_num) * 1 / np.sqrt(node_num)\n",
    "activations = get_activation(w, 'sigmoid')\n",
    "for i, a in activations.items():\n",
    "    plt.subplot(len(activations),2 , 2 * i + 1)\n",
    "    plt.title(str(i+1) + \"-layer\")\n",
    "    plt.hist(a.flatten(), 30, range=(0,1))\n",
    "    \n",
    "w = np.random.randn(node_num, node_num) * 2 / np.sqrt(node_num)\n",
    "activations = get_activation(w, 'ReLU')    \n",
    "for i, a in activations.items():\n",
    "    plt.subplot(len(activations),2 , 2 + 2 * i)\n",
    "    plt.title(str(i+1) + \"-layer\")\n",
    "    plt.hist(a.flatten(), 30, range=(0.01,1))   \n",
    "    \n",
    "plt.show()"
   ]
  },
  {
   "cell_type": "markdown",
   "metadata": {},
   "source": [
    "## **Dropout**"
   ]
  },
  {
   "cell_type": "markdown",
   "metadata": {},
   "source": [
    "- Reduce interaction/co-adapt between units -> better generalization\n",
    "- Similar to subsampling/bagging on network model"
   ]
  },
  {
   "cell_type": "markdown",
   "metadata": {},
   "source": [
    "<img src=\"./figure/dropout.png\" width=\"500\">"
   ]
  },
  {
   "cell_type": "markdown",
   "metadata": {},
   "source": [
    "- Train:\n",
    "    - `self.mask = np.random.rand(*self.W.shape) < self.p / self.p`\n",
    "    - `self.W *= self.mask`\n",
    "\n",
    "- Test:\n",
    "    - As usual"
   ]
  },
  {
   "cell_type": "markdown",
   "metadata": {},
   "source": [
    "## **Batch Normalization**\n",
    "###  Internal Covariate Shift\n",
    "- Different layers have different distributions of input data\n",
    "    \n",
    "    - 1. Gradient Vanishing: activation function input value within nonlinear regime for sigmoid function <img src=\"https://image.slidesharecdn.com/dlmmdcud1l06optimization-170427160940/95/optimizing-deep-networks-d1l6-insightdcu-machine-learning-workshop-2017-8-638.jpg?cb=1493309658\" width=\"500\">\n",
    "\n",
    "    - 2. Slow learning: different scale makes it harder for faster convergence using SGD\n",
    "<img src=\"https://leonardoaraujosantos.gitbooks.io/artificial-inteligence/content/image_folder_5/FeatureScaling.jpg\" width=\"500\">\n",
    "\n",
    "\n",
    "### Algorithm\n",
    "1. **Shift and scale the output values to $N(0,1)$**\n",
    "    - <img src=\"https://guillaumebrg.files.wordpress.com/2016/02/bn.png?w=656\" width=\"500\">\n",
    "\n",
    "    - Improve gradient flow (point1)\n",
    "    - Allow higher learning rates (point2)\n",
    "    - Reduce dependence on initialization (output distribution no long depends on weights $W$)\n",
    "    - *Note*: At test time, the mean from training should be used instead of calculated from testing batch\n",
    "\n",
    "\n",
    "2. **Learn $\\gamma$ and $\\beta$ to retrieve representation power**\n",
    "    - The distribution of the feature may be located at two sides of the non-linear regions for sigmoid funciton, and forcing it to be standardized will lose the distribution.\n",
    "    \n",
    "<img src=\"https://kratzert.github.io/images/bn_backpass/bn_algorithm.PNG\" width=\"400\">\n",
    "\n",
    "\n",
    "<img src=\"https://qph.fs.quoracdn.net/main-qimg-36a6ee9c550f479fc681eab380510baf\" width=\"500\">\n",
    "\n",
    "<img src=\"https://forums.fast.ai/uploads/default/original/2X/9/998a1be6463260f731481106756034c42040e256.jpg\" width=\"400\">\n",
    "\n",
    "3. **How to predict**\n",
    "    - Use the unbiased estimation of mean and variance from all train batches"
   ]
  },
  {
   "cell_type": "markdown",
   "metadata": {},
   "source": [
    "## **Param Update and Learning Rate**\n",
    "- Step decay for learning rate: \n",
    "    * Reduce the learning rate by some factor every few epochs. \n",
    "    * Other approaches also avalable, like exponential decay, 1/t decay, etc.\n",
    "- Second-order update method:\n",
    "    * i.e., Newton's method, not common\n",
    "- Per-parameter adaptive learning rate methods: \n",
    "    * For example: Adagrad, Adam"
   ]
  },
  {
   "cell_type": "markdown",
   "metadata": {},
   "source": [
    "## Gradient Descent"
   ]
  },
  {
   "cell_type": "markdown",
   "metadata": {},
   "source": [
    "- Batch Gradient Descent: \n",
    "    - Global optimal for convex function\n",
    "    - High use of memory; slow\n",
    "    \n",
    "    \n",
    "- Stochatic Gradient Descent\n",
    "    - High speed\n",
    "    - More number of iterations\n",
    "    - For non-convex funciton, may reach better optimal\n",
    "    \n",
    "    \n",
    "- Mini-batch Gradient Descent\n",
    "    - Balance between batch and stochatic gradient descent"
   ]
  },
  {
   "cell_type": "markdown",
   "metadata": {},
   "source": [
    "<img src=\"https://www.bogotobogo.com/python/scikit-learn/images/Batch-vs-Stochastic-Gradient-Descent/stochastic-vs-batch-gradient-descent.png\" width=\"400\">"
   ]
  },
  {
   "cell_type": "markdown",
   "metadata": {},
   "source": [
    "## Gradient Descent w/o Momentum Update"
   ]
  },
  {
   "cell_type": "markdown",
   "metadata": {},
   "source": [
    "### Treat all elements of $dX$ as a whole in terms of learning rate\n",
    "\n",
    "- If gradient direction not changed, increase update, faster convergence\n",
    "- If gradient direction changed, reduce update, reduce oscillation\n",
    "- Keep most of accumulated direction, and slightly adjust based on new direction\n",
    "- <font color=\"blue\">hard to determine learning rate</font>"
   ]
  },
  {
   "cell_type": "code",
   "execution_count": 121,
   "metadata": {
    "collapsed": true
   },
   "outputs": [],
   "source": [
    "import numpy as np\n",
    "def VanillaUpdate(x, dx, learning_rate):\n",
    "    x += -learning_rate * dx\n",
    "    return x\n",
    "\n",
    "def MomentumUpdate(x, dx, v, learning_rate, mu):\n",
    "    v = mu * v - learning_rate * dx # integrate velocity, mu's typical value is about 0.9\n",
    "    x += v # integrate position     \n",
    "    return x, v"
   ]
  },
  {
   "cell_type": "markdown",
   "metadata": {},
   "source": [
    "<img src=\"http://cs231n.github.io/assets/nn3/nesterov.jpeg\" width=\"600\">"
   ]
  },
  {
   "cell_type": "markdown",
   "metadata": {},
   "source": [
    "### Treat each element of $dX$ adaptively in terms of learning rate\n",
    "\n",
    "1. Those dx receiving infrequent updates should have higher learning rate. vice versa. - <font color=\"blue\">AdaGrad</font>\n",
    "2. We don't want: the gradients accumulate (too aggressive), and the learning rate monotically decrease. Instead, we want: modulates the learning rate of each weight based on the magnitudes of its gradient only within a recent time window (i.e., less weights for past $dX$) - <font color=\"blue\">RMSprop</font>\n",
    "3. Still want to use \"momentum-like\" update to get a smooth gradient - <font color=\"blue\">Adam</font>\n"
   ]
  },
  {
   "cell_type": "code",
   "execution_count": 122,
   "metadata": {
    "collapsed": true
   },
   "outputs": [],
   "source": [
    "# 1. AdaGrad\n",
    "def AdaGrad(x, dx, learning_rate, cache, eps):\n",
    "    cache += dx**2\n",
    "    x += - learning_rate * dx / (np.sqrt(cache) + eps) # (usually set somewhere in range from 1e-4 to 1e-8)\n",
    "    return x, cache\n",
    "    \n",
    "# 1+2. RMSprop\n",
    "def RMSprop(x, dx, learning_rate, cache, eps, decay_rate): #Here, decay_rate typical values are [0.9, 0.99, 0.999]\n",
    "    cache = decay_rate * cache + (1 - decay_rate) * dx**2\n",
    "    x += - learning_rate * dx / (np.sqrt(cache) + eps)\n",
    "    return x, cache\n",
    "    \n",
    "# 1+2+3. Adam\n",
    "def Adam(x, dx, learning_rate, m, v, t, beta1, beta2, eps):\n",
    "    m = beta1*m + (1-beta1)*dx # Smooth gradient\n",
    "    #mt = m / (1-beta1**t) # bias-correction step\n",
    "    v = beta2*v + (1-beta2)*(dx**2) # keep track of past updates\n",
    "    #vt = v / (1-beta2**t) # bias-correction step\n",
    "    x += - learning_rate * m / (np.sqrt(v) + eps) # eps = 1e-8, beta1 = 0.9, beta2 = 0.999   \n",
    "    return x, m, v"
   ]
  },
  {
   "cell_type": "markdown",
   "metadata": {},
   "source": [
    "<img src=\"./fig/Optimizers.png\" width=\"600\">"
   ]
  },
  {
   "cell_type": "markdown",
   "metadata": {},
   "source": [
    "\n",
    "## **Second Order Optimization**\n",
    "- No Hyperparameter and learning rates\n",
    "- N^2 elements, O(N^3) for taking inverting\n",
    "- Methods:\n",
    "    * Quasi-Newton methods(BGFS): O(N^3) -> O(N^2)\n",
    "    * L-BFGS: Does not form/store the full inverse Hessian.\n",
    "    \n",
    "## **Hardware**\n",
    "- CPU: less cores, faster per core, better at sequential tasks\n",
    "- GPU: more cores, slower per core, better at parallel tasks (NVIDIA, CUDA, cuDNN)\n",
    "- TPU: just for DL (Tensor Processing Unit)\n",
    "    * Split *One* graph over *Multiple* machines\n",
    "\n",
    "## **Software**\n",
    "- Caffe (FB)\n",
    "- PyTorch (FB)\n",
    "- TF (Google)\n",
    "- CNTK (MS)\n",
    "- Dynamic (e.g., Eager Execution) vs. Static (e.g., TF Lower-level API)"
   ]
  },
  {
   "cell_type": "markdown",
   "metadata": {},
   "source": [
    "# CNN\n",
    "## Overview\n",
    "\n",
    "- Characteristics\n",
    "    - Spatial data like image, video, text, etc.\n",
    "    - Exploit the local structure of data\n",
    "\n",
    "\n",
    "- Application\n",
    "    - Object detection and localization; for example, pedestrian detection for AV, Facebook friends in photo, etc.\n",
    "    \n",
    "    - Image Segmentation; obtain boundary of each object in the image \n",
    "    \n",
    "**ConvNets**\n",
    "- Difference with regular NN:\n",
    "    * Main difference: each neuron is layer 2 is only connected to a few neurons in layer 1\n",
    "    * Data arranged in 3 dimensions: height, width, and depth\n",
    "    \n",
    "    \n",
    "- Convolutional Layer:\n",
    "    * Filter/Kernel (with full depth, but local connectivity across 2d), 3\\*3 --> 5\\*5\n",
    "    * The depth of layer 2 == The number of filters in Layer 1\n",
    "    * `Stride`: usually 1, leaving downsampling to pooling layer. Can use 2 to compromise 1st layer because of computational constraints\n",
    "    * `Padding`: use same to avoid missing information along the border\n",
    "    * *Parameter Sharing*: Same weight for filter/kernel at same depth slice in layer 2 (Alternative: local)\n",
    "    <img src=\"https://blog.liang2.tw/2015Talk-DeepLearn-CNN/pics/external/cs231n_note_conv_filter.png\" width=\"500\">\n",
    "\n",
    "- Pooling\n",
    "    * Most common: 2-2 Max Pooling\n",
    "\n",
    "\n",
    "- Receptive Field\n",
    "    - For a certain pooling layer, we can find the neurons that contributes most to the activation.\n",
    "<img src=\"https://www.researchgate.net/publication/316950618/figure/fig4/AS:495826810007552@1495225731123/The-receptive-field-of-each-convolution-layer-with-a-3-3-kernel-The-green-area-marks.png\" width=\"300\">\n",
    "    \n",
    "- Fully-Connected Layer\n",
    "\n",
    "\n",
    "- Common architecture:\n",
    "    * INPUT -> [CONV -> RELU -> CONV -> RELU -> POOL]\\* -> [FC -> RELU]\\*2 -> FC\n",
    "    * Prefer a stack of small filter CONV to one large receptive field CONV layer\n",
    "    * Stacking three convolutional layers with filters of 3 × 3 and pooling is similar to a single convolutional layer with a 7 × 7 filter.\n",
    "    \n",
    "    \n",
    "- Challenge: Computational resources\n",
    "<img src=\"https://i.stack.imgur.com/AuqKy.png\" width=\"500\">\n",
    "\n",
    "\n",
    "- Different features are detected at each layer. For example, AlexNet:\n",
    "    - More layers can be beneficial for learning complicated features\n",
    "<img src=\"https://banner2.kisspng.com/20180607/vcr/kisspng-deep-learning-convolutional-neural-network-alexnet-deep-learning-5b19637f4372c8.8890220615283905272763.jpg\" width=\"600\">\n",
    "\n",
    "\n",
    "**Transfer Learning**\n",
    "- Apply trained model without last FC layer and use it as feature extracter\n",
    "- Continue to fine tune the model using smaller learning rate\n",
    "- Can use different image size"
   ]
  },
  {
   "cell_type": "markdown",
   "metadata": {},
   "source": [
    "\n",
    "    \n",
    "## Different architectures\n",
    "- LeNet-5 (CONV-Subsampling-CONV-Subsampling-FC-FC)\n",
    "    - Note: sigmoid activation and no Pooling/Dropout layer\n",
    "    \n",
    "    \n",
    "<img src=\"https://i.stack.imgur.com/tLKYz.png\" width=\"800\">\n",
    "\n",
    "- AlexNet 8 layers (CONV1-MAXPOOL1-NORM1-CONV2-MAXPOOL2-NORM2-CONV3-CONV4-CONV5-MAXPOOL3-FC6-FC7-FC8)\n",
    "    - Note: ReLU activation and Pooling/Dropout layer\n",
    "    - Local Response Normalization\n",
    "    \n",
    "    \n",
    "<img src=\"https://www.safaribooksonline.com/library/view/tensorflow-for-deep/9781491980446/assets/tfdl_0106.png\" width=\"400\">\n",
    "\n",
    "<img src=\"https://leonardoaraujosantos.gitbooks.io/artificial-inteligence/content/image_folder_7/AlexNet_1.jpg\" width=\"300\">\n",
    "\n",
    "\n",
    "\n"
   ]
  },
  {
   "cell_type": "markdown",
   "metadata": {},
   "source": [
    "- ZFNet (similar with AlexNet)\n",
    "    * Smaller kernel, more filters\n",
    "\n",
    "\n"
   ]
  },
  {
   "cell_type": "markdown",
   "metadata": {},
   "source": [
    "- VGGNet (*smaller* filter and *deeper* networks)\n",
    "    * 16-19 layers in VGG16Net\n",
    "    * Three 3 \\* 3 kernel with stride == One 7 \\* 7 kernel; Same *effective receptive field*\n",
    "    * ReLU activation function\n",
    "    * Optimizer: Adam\n",
    "    * Weight initialization: He\n",
    "   \n",
    "    * **deeper network and more non-linearity (more representation power);**\n",
    "    * **less parameters ( 3 \\* 3 \\* 3 vs. 7 \\* 7)**\n",
    "<img src=\"https://leonardoaraujosantos.gitbooks.io/artificial-inteligence/content/image_folder_3/CascadingConvolutions.png\" width=\"500\">\n",
    "<img src=\"http://josephpcohen.com/w/wp-content/uploads/Screen-Shot-2016-01-14-at-11.25.15-AM.png\" width=\"800\">\n"
   ]
  },
  {
   "cell_type": "markdown",
   "metadata": {},
   "source": [
    "\n",
    "- GoogLeNet\n",
    "    * Introduced *inception* Module (Parallel filter operations with multiple kernel size)\n",
    "    * Problem: Output size too big after filter concatenation\n",
    "    * The purpose of 1 \\* 1 convolutonal layer: \n",
    "        - Pooling layer keeps the same depth as input\n",
    "        - 1 \\* 1 layer keeps the **same dimension** of input, and **reduces depth** (for example: 64 \\* 56 \\* 56 after 32 1 \\* 1 con --> 32 \\* 56 \\* 56)\n",
    "        - Reduce total number of operations\n",
    "    \n",
    "<img src=\"https://www.researchgate.net/profile/Bo_Zhao48/publication/312515254/figure/fig3/AS:489373281067012@1493687090916/nception-module-of-GoogLeNet-This-figure-is-from-the-original-paper-10.jpg\" width=\"400\">\n"
   ]
  },
  {
   "cell_type": "markdown",
   "metadata": {},
   "source": [
    "\n",
    "\n",
    "- ResNet\n",
    "    * Use network layers to fit a *Residual mapping* instead of directly fitting a desired underlying mapping\n",
    "    * Residual blocks are stacked\n",
    "    * More effective training by enabling gradients to be back-propagated without vanishing\n",
    "    * Similar to GoogLeNet, can use *bottelneck* layer (1 \\* 1 conv layer) for downsampling and efficiency ++\n",
    "    \n",
    "<img src=\"https://www.researchgate.net/profile/Antonio_Theophilo/publication/321347448/figure/fig2/AS:565869411815424@1511925189281/Bottleneck-Blocks-for-ResNet-50-left-identity-shortcut-right-projection-shortcut.png\" width=\"500\">\n",
    "\n",
    "<img src=\"https://i.stack.imgur.com/kBFIf.png\" width=\"500\">"
   ]
  },
  {
   "cell_type": "markdown",
   "metadata": {},
   "source": [
    "Number of filters for each layer \n",
    "\n",
    "|CNN|Convolutional layer filter count progression|\n",
    "|:-:|:-:|\n",
    "|LeNet\t|20, 50\n",
    "|AlexNet\t|96, 256, 384, 384, 256\n",
    "|VGGNet|\t64, 128, 256, 512, 512"
   ]
  },
  {
   "cell_type": "markdown",
   "metadata": {},
   "source": [
    "- Data Augmentation\n",
    "<img src=\"https://cdn-images-1.medium.com/max/1600/1*dJNlEc7yf93K4pjRJL55PA.png\" width=\"500\">"
   ]
  },
  {
   "cell_type": "markdown",
   "metadata": {},
   "source": [
    "## Transfer Learning\n",
    "\n",
    "Features:\n",
    "- Earlier layers: generic visual feature\n",
    "- Later layers: dataset specific features\n",
    "\n",
    "\n",
    "Strategy:\n",
    "- Replace last classifier layer\n",
    "- Remove classifier (softmax) and FC layer. Use network as a feature extractor\n",
    "- Use smaller learning rates"
   ]
  },
  {
   "cell_type": "markdown",
   "metadata": {},
   "source": [
    "# RNN\n",
    "## Basic RNN and Gradient Vanishing\n",
    "\n",
    "<img src=\"http://corochann.com/wp-content/uploads/2017/05/rnn1_graph-800x460.png\" width=500>\n",
    "\n",
    "- What is the problem with RNN\n",
    "    - <font color = \"red\">Gradient Vanishing</font> and Exploding with Vanilla RNN\n",
    "    - Computing gradient of $h_0$ involved many multiplication of ***W*** and ***tanh*** activation (one small gradient would carry over)\n",
    "    - Brief proof:\n",
    "    \n",
    "    $$\\frac{ \\partial E_t} { \\partial w}= \\sum_{k=1}^{t}  \\frac{ \\partial E_t} { \\partial y_t}\\frac{ \\partial y_t} { \\partial h_t}\\frac{ \\partial h_t} { \\partial h_k}\\frac{ \\partial h_k} { \\partial w}$$          \n",
    "    $$\\frac{ \\partial h_t} { \\partial h_k}= \\prod_{j= k + 1}^{t} \\frac{ \\partial h_j} { \\partial h_{j-1}}$$\n",
    "    \n",
    "    where $$ h_j = tanh(W_{hx}X_j + W_{hh}h_{j-1} + b)$$\n",
    "    then $$\\frac{ \\partial h_t} { \\partial h_k}= \\prod_{j= k + 1}^{t} \\frac{ \\partial h_j} { \\partial h_{j-1}} =  \\prod_{j= k + 1}^{t} tanh'(\\cdot)W_{hh}$$\n",
    "    \n",
    "    note that for tanh function, $tanh'(\\cdot)<=1$: <img src=\"./figure/tanh.png\" width=\"300\">\n",
    "\n",
    "    - Depending on $W_{hh}$, we may have gradient vanish or explode\n",
    "    - We cannot figure out the dependency between long time interval's data\n",
    "\n",
    "<img src=\"./figure/rnn2.png\" width=\"500\">  "
   ]
  },
  {
   "cell_type": "markdown",
   "metadata": {},
   "source": [
    "- How to fix vanishing gradients?\n",
    "    - Partial fix for gradient exploding: if ||g|| > threshold, shrink value of g\n",
    "    - Initialize W to be identity\n",
    "    - Use ReLU as activation function f\n",
    "    "
   ]
  },
  {
   "cell_type": "markdown",
   "metadata": {},
   "source": [
    "## Applications of RNN\n",
    "- Language modelling (see nlp repo for details)\n",
    "- seq2seq models for machine translations (see nlp repo for details)\n",
    "- seq2seq with attention (see nlp repo for details)\n",
    "\n",
    "<img src=\"https://www.safaribooksonline.com/library/view/tensorflow-for-deep/9781491980446/assets/tfdl_0706.png\" width=\"500\">"
   ]
  },
  {
   "cell_type": "markdown",
   "metadata": {},
   "source": [
    "## LSTM"
   ]
  },
  {
   "cell_type": "markdown",
   "metadata": {},
   "source": [
    "  \n",
    "- Main Idea of LSTM\n",
    "    * **Forget Gate** (\\*): how much old memory we want to keep; element-wise multiplication with old memory $ C_{t-1} $. The Parameters are learned as $ W_f $. I.e., $ \\sigma(W_f([h_{t-1}, X_t]) + b_f = f_t $. If you want all old memory, then $ f_t $ equals 1. After getting $ f_t $, multiply it with $ C_{t-1} $<br/><br/>\n",
    "   \n",
    "    * **New Memory Gate**(\\+)\n",
    "        - How to merge new memory with old memory; piece-wise summation, decides how to combine *new* memory with *old* memory. The weighing parameters are learned as $ W_i $. I.e., $ \\sigma(W_i([h_{t-1}, X_t]) + b_i = i_t $. \n",
    "    \n",
    "        - What is the new memory itself: $ tanh(W_C([h_{t-1}, X_t]) + b_C = \\tilde{C_t} $\n",
    "    \n",
    "        - What is the combined memory: $ C_{t-1} * f_t + \\tilde{C_t} * i_t = C_t$ <br/><br/>\n",
    "        \n",
    "    * **Output gate**: how much of the new memory we want to output or store? learned solely through combined memory. $ \\sigma(W_o([h_{t-1}, X_t]) + b_o = o_t $. Then the final output $ h_t $ would be $ o_t * tanh(C_t) = h_t $\n",
    "    \n",
    "    \n",
    "    \n",
    "- Why LSTM prevents gradient vanishing?\n",
    "    - *Linear* Connection between $C_t$ and $C_{t-1}$ rather than multiplying\n",
    "    - Forget gate controls and keeps long-distance dependency\n",
    "    - Allows error to flow at different strength based on inputs\n",
    "    - During initialization: Initialize forget gate bias to one: default to remembering\n",
    "    - Compared with Vanilla RNN, $\\frac{ \\partial C_t} { \\partial C_k}= \\prod_{j= k + 1}^{t} \\frac{ \\partial C_j} { \\partial C_{j-1} }= \\prod_{j= k + 1}^{t} \\sigma'(\\cdot) \\approx 0|1$, where $\\cdot$ is input to forget gate.\n",
    "    - Key difference with RNN: we no longer have the term: $\\prod_{j= k + 1}^{t} W_{hh}$\n",
    "    - See proof: https://weberna.github.io/blog/2017/11/15/LSTM-Vanishing-Gradients.html\n",
    "\n",
    "\n",
    "<img src=\"https://cdn-images-1.medium.com/max/1600/0*LyfY3Mow9eCYlj7o.\" width=\"600\">\n"
   ]
  },
  {
   "cell_type": "markdown",
   "metadata": {},
   "source": [
    "## Bidirectional LSTM\n",
    "\n",
    "<img src=\"https://guillaumegenthial.github.io/assets/bi-lstm.png\" width=\"300\">\n",
    "<img src=\"https://guillaumegenthial.github.io/assets/char_representation.png\" width=\"300\">\n"
   ]
  },
  {
   "cell_type": "markdown",
   "metadata": {},
   "source": [
    "## Other variation: Gated Recurrent Unit (GRU)\n",
    "- **Update Gate**: How to combine old and new state: $ \\sigma(W_z([h_{t-1}, X_t])  = z_t $\n",
    "- **Reset Gate**: How much to keep old state: $ \\sigma(W_r([h_{t-1}, X_t])= r_t $\n",
    "- **New State**: $ tanh(WX_t + r_t * U h_{t-1}) =\\tilde{h_t}$ \n",
    "- **Combine States**: $z_t* h_{t-1} + (1-z_t) * \\tilde{h_t} $\n",
    "- If r=0, ignore/drop previous state for generating new state\n",
    "- if z=1, carry information from past through many steps (long-term dependency)\n",
    "\n",
    "<img src=\"https://camo.githubusercontent.com/ce3f6d276f10fef2c145daf0fe19c006c92ce019/687474703a2f2f636f6c61682e6769746875622e696f2f706f7374732f323031352d30382d556e6465727374616e64696e672d4c53544d732f696d672f4c53544d332d7661722d4752552e706e67\" width=\"600\">\n",
    "\n",
    "---\n",
    "\n",
    "<img src=\"https://www.safaribooksonline.com/library/view/tensorflow-for-deep/9781491980446/assets/tfdl_0705.png\" width=\"500\">"
   ]
  },
  {
   "cell_type": "markdown",
   "metadata": {},
   "source": [
    "## Image Captioning\n",
    "1. From image: [CONV-POOL] \\* n --> FC Layer --> (num_example, 4096) written as **v**\n",
    "2. Hiddern layer: $h = tanh(W_{xh} * X + W_{hh} * h + W_{ih} * \\bf{v} )$\n",
    "3. Output layer: $y = W_{hy} * h$\n",
    "4. Get input $ X_{t+1}$ by sampling $\\bf{y} $\n",
    "\n",
    "<img src=\"https://raw.githubusercontent.com/yunjey/pytorch-tutorial/master/tutorials/03-advanced/image_captioning/png/model.png\" width=\"500\">\n",
    "\n",
    "<img src=\"https://www.safaribooksonline.com/library/view/tensorflow-for-deep/9781491980446/assets/tfdl_0108.png\" width=\"500\">\n",
    "\n"
   ]
  },
  {
   "cell_type": "markdown",
   "metadata": {},
   "source": [
    "# Network Tuning"
   ]
  },
  {
   "cell_type": "markdown",
   "metadata": {},
   "source": [
    "General Workflow\n",
    "- Preprocess Data (zero-centered,i.e.,Substract Mean)\n",
    "- Identify architecture\n",
    "- Ensure that we can overfit a small traing set to acc = 100%\n",
    "- Loss not decreasing: too low leaning rate\n",
    "- Loss goes to NaN: too high learning rate (e.g., log(0) = NaN) "
   ]
  },
  {
   "cell_type": "markdown",
   "metadata": {},
   "source": [
    "General guideline:\n",
    "- Observe training loss and validation loss curve\n",
    "- Use a subset of data for hyperparameters tuning\n",
    "- Add shuffling for input data"
   ]
  },
  {
   "cell_type": "markdown",
   "metadata": {},
   "source": [
    "<img src=\"https://www.learnopencv.com/wp-content/uploads/2017/11/cnn-keras-curves-without-aug.jpg\" width=\"400\">\n"
   ]
  },
  {
   "cell_type": "markdown",
   "metadata": {},
   "source": [
    "- Overfitting:\n",
    "    - Increase Dropout ratio\n",
    "    - Decrease layers\n",
    "    - Increase regularization (L1, L2)\n",
    "    - Early stopping\n",
    "    - Observe distribution of weights (any extreme values)\n",
    "    \n",
    "    \n",
    "- Underfitting:\n",
    "    - Increase layers\n",
    "    - Decrease regularization\n",
    "    - Decrease learning rate\n",
    "    \n",
    "\n",
    "- Gradient vanishing\n",
    "    - Batch Normalization\n",
    "    - Less layers\n",
    "    - Appropriate activation function (Relu instead of Sigmoid)\n",
    "    \n",
    "    \n",
    "- Local minima\n",
    "    - Increase learning rate\n",
    "    - Appropriate optimizer\n",
    "    - Smaller batch size\n",
    "\n",
    "\n",
    "- Memory concerns\n",
    "    - What determines memory requirment? \n",
    "    - Number of parameters\n",
    "    - Type of updater (SGD/Momentum/Adam)\n",
    "    - Mini-batch size\n",
    "    - Size of single sample\n",
    "    - Number of activations\n",
    "    \n",
    "    \n",
    "- Learning Rate\n",
    "    - Observe the relative change of parameters $\\frac{\\Delta w}{|w|}$ to be around $10^{-3}$.\n",
    "    - Increase/Decrease the learing rate accordingly\n",
    "    <img src=\"https://www.safaribooksonline.com/library/view/deep-learning/9781491924570/assets/dpln_0602.png\" width=\"300\">\n",
    "    - Strategy: start with a relatively large value, and observe if the training process diverges (i.e., training loss increases). And decrease the rate until convergence. Start with values like 0.001.\n",
    "    \n",
    "    \n",
    "- Mini-batch size\n",
    "    - Biggger Mini-batch gives smoother gradient update but longer to run\n",
    "    - In practice, 32 to 256 is common for CPU training, and 32 to 1,024 is common for GPU training"
   ]
  },
  {
   "cell_type": "markdown",
   "metadata": {},
   "source": [
    "- to read: https://pcc.cs.byu.edu/2017/10/02/practical-advice-for-building-deep-neural-networks/"
   ]
  },
  {
   "cell_type": "markdown",
   "metadata": {},
   "source": [
    "# Scaling"
   ]
  },
  {
   "cell_type": "markdown",
   "metadata": {},
   "source": [
    "## Hardware\n",
    "- CPU\n",
    "- GPU (for parallel)\n",
    "- TPU (for matrix)\n",
    "\n",
    "## Parelleling\n",
    "\n",
    "\n",
    "- Data parallel training splits large datasets across multiple computing nodes\n",
    "    - Each worker node has a complete copy of the model being trained.\n",
    "    - One single as supervisor server.\n",
    "<img src=\"https://www.safaribooksonline.com/library/view/tensorflow-for-deep/9781491980446/assets/tfdl_0908.png\" width=\"200\">\n",
    "\n",
    "\n",
    "- Model parallel training splits large models across multiple nodes. \n",
    "    - Motivation: memory restriction on a single CPU\n",
    "    - Network itself is stored on multiple CPUs\n",
    "    - Not common..."
   ]
  },
  {
   "cell_type": "code",
   "execution_count": null,
   "metadata": {
    "collapsed": true
   },
   "outputs": [],
   "source": []
  }
 ],
 "metadata": {
  "hide_input": false,
  "kernelspec": {
   "display_name": "Python 3",
   "language": "python",
   "name": "python3"
  },
  "language_info": {
   "codemirror_mode": {
    "name": "ipython",
    "version": 3
   },
   "file_extension": ".py",
   "mimetype": "text/x-python",
   "name": "python",
   "nbconvert_exporter": "python",
   "pygments_lexer": "ipython3",
   "version": "3.7.2"
  },
  "toc": {
   "base_numbering": 1,
   "nav_menu": {},
   "number_sections": true,
   "sideBar": true,
   "skip_h1_title": false,
   "title_cell": "Table of Contents",
   "title_sidebar": "Contents",
   "toc_cell": false,
   "toc_position": {
    "height": "632px",
    "left": "0px",
    "right": "1357.17px",
    "top": "106.992px",
    "width": "221.847px"
   },
   "toc_section_display": true,
   "toc_window_display": true
  },
  "varInspector": {
   "cols": {
    "lenName": 16,
    "lenType": 16,
    "lenVar": 40
   },
   "kernels_config": {
    "python": {
     "delete_cmd_postfix": "",
     "delete_cmd_prefix": "del ",
     "library": "var_list.py",
     "varRefreshCmd": "print(var_dic_list())"
    },
    "r": {
     "delete_cmd_postfix": ") ",
     "delete_cmd_prefix": "rm(",
     "library": "var_list.r",
     "varRefreshCmd": "cat(var_dic_list()) "
    }
   },
   "types_to_exclude": [
    "module",
    "function",
    "builtin_function_or_method",
    "instance",
    "_Feature"
   ],
   "window_display": false
  }
 },
 "nbformat": 4,
 "nbformat_minor": 2
}
