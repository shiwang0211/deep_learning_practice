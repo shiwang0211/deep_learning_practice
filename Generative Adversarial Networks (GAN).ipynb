{
 "cells": [
  {
   "cell_type": "markdown",
   "metadata": {},
   "source": [
    "# Concepts"
   ]
  },
  {
   "cell_type": "markdown",
   "metadata": {},
   "source": [
    "<img src = \"https://deeplearning4j.org/img/GANs.png\" width = 500>\n",
    "\n",
    "<img src = \"https://www.safaribooksonline.com/library/view/tensorflow-for-deep/9781491980446/assets/tfdl_0113.png\" width = 500>"
   ]
  },
  {
   "cell_type": "markdown",
   "metadata": {},
   "source": [
    "## Components\n",
    "- Generator:\n",
    "    - Input: Random Noise\n",
    "    - Output: Image\n",
    "    \n",
    "    \n",
    "- Discriminator:\n",
    "    - Input: Real Image + Fake Image\n",
    "    - Output: binary classifier (0/1)\n",
    " "
   ]
  },
  {
   "cell_type": "markdown",
   "metadata": {},
   "source": [
    "## Training"
   ]
  },
  {
   "cell_type": "markdown",
   "metadata": {},
   "source": [
    "- First Loop: Train discriminator\n",
    "<img src= \"https://cdn-images-1.medium.com/max/960/1*nAVqFluPijpBWR2tI4gCxg.png\" width = 400>\n",
    "\n",
    "\n",
    "- Second loop: Training generator\n",
    "    - Note: target is 1 (Real)\n",
    "<img src = \"https://cdn-images-1.medium.com/max/960/1*VE1-kBwH_JwddgJXUgPyMQ.png\" width = 400>"
   ]
  },
  {
   "cell_type": "markdown",
   "metadata": {},
   "source": [
    "# Example"
   ]
  },
  {
   "cell_type": "markdown",
   "metadata": {},
   "source": [
    "## Read in MNIST data"
   ]
  },
  {
   "cell_type": "code",
   "execution_count": 1,
   "metadata": {},
   "outputs": [
    {
     "name": "stderr",
     "output_type": "stream",
     "text": [
      "Using TensorFlow backend.\n",
      "C:\\Users\\shiwa\\Downloads\\WinPython-64bit-3.5.3.1Qt5\\python-3.5.3.amd64\\lib\\site-packages\\h5py\\__init__.py:34: FutureWarning: Conversion of the second argument of issubdtype from `float` to `np.floating` is deprecated. In future, it will be treated as `np.float64 == np.dtype(float).type`.\n",
      "  from ._conv import register_converters as _register_converters\n"
     ]
    }
   ],
   "source": [
    "import numpy as np\n",
    "import keras\n",
    "import keras.backend as K\n",
    "from keras.layers import Input, Dense, Activation, LeakyReLU, BatchNormalization\n",
    "from keras.models import Sequential\n",
    "from keras.optimizers import Adam\n",
    "from sklearn.model_selection import train_test_split\n",
    "import matplotlib.pyplot as plt"
   ]
  },
  {
   "cell_type": "code",
   "execution_count": 2,
   "metadata": {},
   "outputs": [],
   "source": [
    "(X_train, y_train), (X_test, y_test) = keras.datasets.mnist.load_data()"
   ]
  },
  {
   "cell_type": "markdown",
   "metadata": {},
   "source": [
    "### Plot function"
   ]
  },
  {
   "cell_type": "code",
   "execution_count": 36,
   "metadata": {},
   "outputs": [],
   "source": [
    "def plot_20_digits(imgs):\n",
    "    plt.figure(figsize=(5, 4))\n",
    "    for i in range(20):\n",
    "        img = imgs[i]\n",
    "        plt.subplot(4, 5, i+1)\n",
    "        plt.imshow(img, cmap='gray')\n",
    "        plt.xticks([])\n",
    "        plt.yticks([])\n",
    "    plt.tight_layout()\n",
    "    plt.show()"
   ]
  },
  {
   "cell_type": "code",
   "execution_count": 37,
   "metadata": {},
   "outputs": [
    {
     "data": {
      "image/png": "[encoded data removed]",
      "text/plain": [
       "<matplotlib.figure.Figure at 0x1ffa4a984a8>"
      ]
     },
     "metadata": {},
     "output_type": "display_data"
    }
   ],
   "source": [
    "plot_20_digits(X_train[:20])"
   ]
  },
  {
   "cell_type": "markdown",
   "metadata": {},
   "source": [
    "### Preprocess (Reshape and Scale)"
   ]
  },
  {
   "cell_type": "code",
   "execution_count": 3,
   "metadata": {},
   "outputs": [],
   "source": [
    "def reshape_scale(x):\n",
    "    y = x.reshape(-1, 784)\n",
    "    y = np.float64(y)\n",
    "    y = (y / 255 - 0.5) * 2\n",
    "    y = np.clip(y, -1, 1)\n",
    "    return y"
   ]
  },
  {
   "cell_type": "code",
   "execution_count": 4,
   "metadata": {},
   "outputs": [
    {
     "data": {
      "text/plain": [
       "(60000, 784)"
      ]
     },
     "execution_count": 4,
     "metadata": {},
     "output_type": "execute_result"
    }
   ],
   "source": [
    "X_train_ = reshape_scale(X_train)\n",
    "X_train_.shape"
   ]
  },
  {
   "cell_type": "code",
   "execution_count": 5,
   "metadata": {},
   "outputs": [
    {
     "data": {
      "text/plain": [
       "(10000, 784)"
      ]
     },
     "execution_count": 5,
     "metadata": {},
     "output_type": "execute_result"
    }
   ],
   "source": [
    "X_test_ = reshape_scale(X_test)\n",
    "X_test_.shape"
   ]
  },
  {
   "cell_type": "markdown",
   "metadata": {},
   "source": [
    "### Revert reshape and scale"
   ]
  },
  {
   "cell_type": "code",
   "execution_count": 28,
   "metadata": {
    "collapsed": true
   },
   "outputs": [],
   "source": [
    "def de_reshape_scale(x):\n",
    "    y = (x / 2 + 1) * 255\n",
    "    y = np.clip(y, 0, 255)\n",
    "    y = np.uint8(y)\n",
    "    y = y.reshape(28, 28)\n",
    "    return y"
   ]
  },
  {
   "cell_type": "code",
   "execution_count": 31,
   "metadata": {},
   "outputs": [
    {
     "data": {
      "text/plain": [
       "(28, 28)"
      ]
     },
     "execution_count": 31,
     "metadata": {},
     "output_type": "execute_result"
    }
   ],
   "source": [
    "X = de_reshape_scale(X_train_[0])\n",
    "X.shape"
   ]
  },
  {
   "cell_type": "markdown",
   "metadata": {},
   "source": [
    "### Get batch size X and Y"
   ]
  },
  {
   "cell_type": "code",
   "execution_count": 6,
   "metadata": {},
   "outputs": [],
   "source": [
    "def real_batch_xy(data, batch_size, i):\n",
    "    X = data[i*batch_size:(i+1)*batch_size]\n",
    "    Y = np.ones([batch_size, 1])\n",
    "    return X, Y"
   ]
  },
  {
   "cell_type": "code",
   "execution_count": 7,
   "metadata": {},
   "outputs": [
    {
     "data": {
      "text/plain": [
       "((64, 784), (64, 1))"
      ]
     },
     "execution_count": 7,
     "metadata": {},
     "output_type": "execute_result"
    }
   ],
   "source": [
    "X, Y = real_batch_xy(X_train_, 64, 1)\n",
    "X.shape, Y.shape"
   ]
  },
  {
   "cell_type": "markdown",
   "metadata": {},
   "source": [
    "Note: y label from 0 to 9 is useless here."
   ]
  },
  {
   "cell_type": "markdown",
   "metadata": {},
   "source": [
    "## Get eval size X and Y"
   ]
  },
  {
   "cell_type": "code",
   "execution_count": 8,
   "metadata": {
    "collapsed": true
   },
   "outputs": [],
   "source": [
    "def real_eval_xy(data, eval_size):\n",
    "    random_index = np.random.choice(len(data), eval_size, replace=False)\n",
    "    X = data[random_index]\n",
    "    Y = np.ones([eval_size, 1])\n",
    "    return X, Y  "
   ]
  },
  {
   "cell_type": "code",
   "execution_count": 9,
   "metadata": {},
   "outputs": [
    {
     "data": {
      "text/plain": [
       "((16, 784), (16, 1))"
      ]
     },
     "execution_count": 9,
     "metadata": {},
     "output_type": "execute_result"
    }
   ],
   "source": [
    "X, Y = real_eval_xy(X_test_, 16)\n",
    "X.shape, Y.shape"
   ]
  },
  {
   "cell_type": "markdown",
   "metadata": {},
   "source": [
    "## Generate Random Noise"
   ]
  },
  {
   "cell_type": "markdown",
   "metadata": {},
   "source": [
    "Note: For simplicity, assume number of input neurons is hard-coded as 100"
   ]
  },
  {
   "cell_type": "code",
   "execution_count": 10,
   "metadata": {},
   "outputs": [],
   "source": [
    "def generate_random_noise(num_examples, num_dim = 100):\n",
    "    random_noises = np.random.normal(loc=0, scale=1, size = (num_examples, num_dim))  \n",
    "    return random_noises"
   ]
  },
  {
   "cell_type": "code",
   "execution_count": 11,
   "metadata": {},
   "outputs": [
    {
     "data": {
      "text/plain": [
       "(1000, 100)"
      ]
     },
     "execution_count": 11,
     "metadata": {},
     "output_type": "execute_result"
    }
   ],
   "source": [
    "fake_data = generate_random_noise(1000)\n",
    "fake_data.shape"
   ]
  },
  {
   "cell_type": "markdown",
   "metadata": {},
   "source": [
    "### Get batch size X and Y"
   ]
  },
  {
   "cell_type": "code",
   "execution_count": 12,
   "metadata": {
    "collapsed": true
   },
   "outputs": [],
   "source": [
    "def fake_batch_xy(batch_size, generator_model):\n",
    "    X = generate_random_noise(batch_size)\n",
    "    X_img = generator_model.predict_on_batch(X)\n",
    "    Y = np.zeros([batch_size, 1])\n",
    "    return X, X_img, Y"
   ]
  },
  {
   "cell_type": "code",
   "execution_count": 38,
   "metadata": {},
   "outputs": [
    {
     "data": {
      "text/plain": [
       "((64, 100), (64, 784), (64, 1))"
      ]
     },
     "execution_count": 38,
     "metadata": {},
     "output_type": "execute_result"
    }
   ],
   "source": [
    "X,  X_img, Y = fake_batch_xy(64, generator)\n",
    "X.shape,  X_img.shape, Y.shape"
   ]
  },
  {
   "cell_type": "markdown",
   "metadata": {},
   "source": [
    "### Get eval size X and Y"
   ]
  },
  {
   "cell_type": "markdown",
   "metadata": {},
   "source": [
    "same as batch"
   ]
  },
  {
   "cell_type": "markdown",
   "metadata": {},
   "source": [
    "## Define Generator Network"
   ]
  },
  {
   "cell_type": "code",
   "execution_count": 14,
   "metadata": {},
   "outputs": [
    {
     "name": "stdout",
     "output_type": "stream",
     "text": [
      "_________________________________________________________________\n",
      "Layer (type)                 Output Shape              Param #   \n",
      "=================================================================\n",
      "dense_1 (Dense)              (None, 128)               12928     \n",
      "_________________________________________________________________\n",
      "dense_2 (Dense)              (None, 784)               101136    \n",
      "=================================================================\n",
      "Total params: 114,064.0\n",
      "Trainable params: 114,064\n",
      "Non-trainable params: 0.0\n",
      "_________________________________________________________________\n"
     ]
    }
   ],
   "source": [
    "generator = Sequential()\n",
    "generator.add(Dense(128, activation='relu', input_dim=100))\n",
    "generator.add(Dense(784, activation='tanh')) #scaled between -1 and 1\n",
    "generator.summary()"
   ]
  },
  {
   "cell_type": "markdown",
   "metadata": {},
   "source": [
    "## Define Discriminator Network"
   ]
  },
  {
   "cell_type": "code",
   "execution_count": 15,
   "metadata": {},
   "outputs": [
    {
     "name": "stdout",
     "output_type": "stream",
     "text": [
      "_________________________________________________________________\n",
      "Layer (type)                 Output Shape              Param #   \n",
      "=================================================================\n",
      "dense_3 (Dense)              (None, 128)               100480    \n",
      "_________________________________________________________________\n",
      "dense_4 (Dense)              (None, 1)                 129       \n",
      "=================================================================\n",
      "Total params: 100,609.0\n",
      "Trainable params: 100,609\n",
      "Non-trainable params: 0.0\n",
      "_________________________________________________________________\n"
     ]
    }
   ],
   "source": [
    "discriminator = Sequential()\n",
    "discriminator.add(Dense(128, activation='relu', input_dim=784))\n",
    "discriminator.add(Dense(1, activation='sigmoid'))\n",
    "discriminator.summary()"
   ]
  },
  {
   "cell_type": "code",
   "execution_count": 16,
   "metadata": {},
   "outputs": [
    {
     "name": "stdout",
     "output_type": "stream",
     "text": [
      "WARNING:tensorflow:From C:\\Users\\shiwa\\Downloads\\WinPython-64bit-3.5.3.1Qt5\\python-3.5.3.amd64\\lib\\site-packages\\keras\\backend\\tensorflow_backend.py:1123: calling reduce_mean (from tensorflow.python.ops.math_ops) with keep_dims is deprecated and will be removed in a future version.\n",
      "Instructions for updating:\n",
      "keep_dims is deprecated, use keepdims instead\n"
     ]
    }
   ],
   "source": [
    "discriminator.compile(optimizer='rmsprop',\n",
    "              loss='binary_crossentropy')"
   ]
  },
  {
   "cell_type": "markdown",
   "metadata": {},
   "source": [
    "## Define GAN network"
   ]
  },
  {
   "cell_type": "code",
   "execution_count": 17,
   "metadata": {},
   "outputs": [
    {
     "name": "stdout",
     "output_type": "stream",
     "text": [
      "_________________________________________________________________\n",
      "Layer (type)                 Output Shape              Param #   \n",
      "=================================================================\n",
      "sequential_1 (Sequential)    (None, 784)               114064    \n",
      "_________________________________________________________________\n",
      "sequential_2 (Sequential)    (None, 1)                 100609    \n",
      "=================================================================\n",
      "Total params: 214,673.0\n",
      "Trainable params: 214,673\n",
      "Non-trainable params: 0.0\n",
      "_________________________________________________________________\n"
     ]
    }
   ],
   "source": [
    "GAN = Sequential()\n",
    "GAN.add(generator)\n",
    "GAN.add(discriminator)\n",
    "GAN.summary()"
   ]
  },
  {
   "cell_type": "code",
   "execution_count": 18,
   "metadata": {
    "collapsed": true
   },
   "outputs": [],
   "source": [
    "GAN.compile(optimizer='rmsprop',\n",
    "              loss='binary_crossentropy')"
   ]
  },
  {
   "cell_type": "markdown",
   "metadata": {},
   "source": [
    "## Define Training parameters"
   ]
  },
  {
   "cell_type": "code",
   "execution_count": 24,
   "metadata": {
    "collapsed": true
   },
   "outputs": [],
   "source": [
    "NUM_EPOCH = 10\n",
    "BATCH_SIZE = 64\n",
    "EVAL_SIZE = 16\n",
    "NUM_ITR = len(X_train_) // BATCH_SIZE"
   ]
  },
  {
   "cell_type": "code",
   "execution_count": 25,
   "metadata": {
    "collapsed": true
   },
   "outputs": [],
   "source": [
    "def make_trainable(model, trainable):\n",
    "    for layer in model.layers:\n",
    "        layer.trainable = trainable"
   ]
  },
  {
   "cell_type": "markdown",
   "metadata": {},
   "source": [
    "## Define Training Loop"
   ]
  },
  {
   "cell_type": "markdown",
   "metadata": {},
   "source": [
    "- `fit`: Trains the model for a given number of epochs (iterations on a dataset).\n",
    "- `train_on_batch`: Runs a single gradient update on a single batch of data."
   ]
  },
  {
   "cell_type": "code",
   "execution_count": 26,
   "metadata": {},
   "outputs": [
    {
     "name": "stdout",
     "output_type": "stream",
     "text": [
      "Epoch:   1/10 Discriminator Loss: 1.5504 Generator Loss: 0.2876\n",
      "Epoch:   2/10 Discriminator Loss: 1.9726 Generator Loss: 0.1835\n",
      "Epoch:   3/10 Discriminator Loss: 1.8195 Generator Loss: 0.2267\n",
      "Epoch:   4/10 Discriminator Loss: 2.0343 Generator Loss: 0.1780\n",
      "Epoch:   5/10 Discriminator Loss: 2.2179 Generator Loss: 0.1402\n",
      "Epoch:   6/10 Discriminator Loss: 2.2347 Generator Loss: 0.1454\n",
      "Epoch:   7/10 Discriminator Loss: 2.0926 Generator Loss: 0.1886\n",
      "Epoch:   8/10 Discriminator Loss: 1.7749 Generator Loss: 0.2595\n",
      "Epoch:   9/10 Discriminator Loss: 1.9330 Generator Loss: 0.2142\n",
      "Epoch:  10/10 Discriminator Loss: 3.5078 Generator Loss: 0.0460\n"
     ]
    }
   ],
   "source": [
    "losses = []\n",
    "for epoch in range(NUM_EPOCH):\n",
    "\n",
    "    for i in range(NUM_ITR):\n",
    "        \n",
    "        # 0. Prepare Inputs\n",
    "        X_real, Y_real = real_batch_xy(X_train_, BATCH_SIZE, i)\n",
    "        X_fake_raw, X_fake, Y_fake = fake_batch_xy(BATCH_SIZE, generator)\n",
    "        \n",
    "        # 1. Turn on Discriminator, train it with real AND fake\n",
    "        make_trainable(discriminator, True)\n",
    "        discriminator.train_on_batch(X_real, Y_real)\n",
    "        discriminator.train_on_batch(X_fake, Y_fake)\n",
    "        \n",
    "        # 2. Turn off Discriminator, only train Generator with fake\n",
    "        make_trainable(discriminator, False)\n",
    "        GAN.train_on_batch(X_fake_raw, Y_real)\n",
    "        \n",
    "    # At the end of each epoch\n",
    "    \n",
    "    # 1. Generate evaluation set\n",
    "    X_eval_real, Y_eval_real = real_eval_xy(X_test_, EVAL_SIZE)\n",
    "    X_eval_raw, X_eval_fake, Y_eval_fake = fake_batch_xy(EVAL_SIZE, generator)\n",
    "    \n",
    "    # 2. use `test_on_batch` to return scalar loss\n",
    "    d_loss  = discriminator.test_on_batch(X_eval_real, Y_eval_real) + \\\n",
    "              discriminator.test_on_batch(X_eval_fake, Y_eval_fake)\n",
    "        \n",
    "    g_loss = GAN.test_on_batch(X_eval_raw, Y_eval_real)\n",
    "    \n",
    "    losses.append((d_loss, g_loss))\n",
    "    \n",
    "    # 3. Print loss\n",
    "    print(\"Epoch: {:>3}/{} Discriminator Loss: {:>6.4f} Generator Loss: {:>6.4f}\".format(\n",
    "        epoch + 1, \n",
    "        NUM_EPOCH, \n",
    "        d_loss, \n",
    "        g_loss))"
   ]
  },
  {
   "cell_type": "markdown",
   "metadata": {},
   "source": [
    "## Look at fake digits"
   ]
  },
  {
   "cell_type": "code",
   "execution_count": 40,
   "metadata": {},
   "outputs": [
    {
     "data": {
      "image/png": "[encoded data removed]",
      "text/plain": [
       "<matplotlib.figure.Figure at 0x1ffa60f1630>"
      ]
     },
     "metadata": {},
     "output_type": "display_data"
    }
   ],
   "source": [
    "_, X_fake, _ = fake_batch_xy(20, generator)\n",
    "fake_imgs = [de_reshape_scale(x) for x in X_fake]\n",
    "plot_20_digits(fake_imgs)"
   ]
  },
  {
   "cell_type": "markdown",
   "metadata": {},
   "source": [
    "# Ref\n",
    "- https://towardsdatascience.com/understanding-generative-adversarial-networks-4dafc963f2ef\n",
    "- https://deeplearning4j.org/generative-adversarial-network"
   ]
  },
  {
   "cell_type": "code",
   "execution_count": null,
   "metadata": {
    "collapsed": true
   },
   "outputs": [],
   "source": [
    " "
   ]
  }
 ],
 "metadata": {
  "hide_input": false,
  "kernelspec": {
   "display_name": "Python 3",
   "language": "python",
   "name": "python3"
  },
  "language_info": {
   "codemirror_mode": {
    "name": "ipython",
    "version": 3
   },
   "file_extension": ".py",
   "mimetype": "text/x-python",
   "name": "python",
   "nbconvert_exporter": "python",
   "pygments_lexer": "ipython3",
   "version": "3.7.2"
  },
  "toc": {
   "base_numbering": 1,
   "nav_menu": {
    "height": "397px",
    "width": "252px"
   },
   "number_sections": true,
   "sideBar": true,
   "skip_h1_title": false,
   "title_cell": "Table of Contents",
   "title_sidebar": "Contents",
   "toc_cell": false,
   "toc_position": {},
   "toc_section_display": "block",
   "toc_window_display": true
  }
 },
 "nbformat": 4,
 "nbformat_minor": 2
}
