{
 "cells": [
  {
   "cell_type": "markdown",
   "metadata": {
    "toc": true
   },
   "source": [
    "<h1>Table of Contents<span class=\"tocSkip\"></span></h1>\n",
    "<div class=\"toc\"><ul class=\"toc-item\"><li><span><a href=\"#Reference\" data-toc-modified-id=\"Reference-1\"><span class=\"toc-item-num\">1&nbsp;&nbsp;</span>Reference</a></span></li><li><span><a href=\"#Import-library\" data-toc-modified-id=\"Import-library-2\"><span class=\"toc-item-num\">2&nbsp;&nbsp;</span>Import library</a></span></li><li><span><a href=\"#Import-Model\" data-toc-modified-id=\"Import-Model-3\"><span class=\"toc-item-num\">3&nbsp;&nbsp;</span>Import Model</a></span></li><li><span><a href=\"#Vectorization-and-Distance-Function\" data-toc-modified-id=\"Vectorization-and-Distance-Function-4\"><span class=\"toc-item-num\">4&nbsp;&nbsp;</span>Vectorization and Distance Function</a></span></li><li><span><a href=\"#Calculate-Distance\" data-toc-modified-id=\"Calculate-Distance-5\"><span class=\"toc-item-num\">5&nbsp;&nbsp;</span>Calculate Distance</a></span></li></ul></div>"
   ]
  },
  {
   "cell_type": "markdown",
   "metadata": {},
   "source": [
    "- http://cmusatyalab.github.io/openface/"
   ]
  },
  {
   "cell_type": "markdown",
   "metadata": {},
   "source": [
    "# Import library"
   ]
  },
  {
   "cell_type": "code",
   "execution_count": 59,
   "metadata": {},
   "outputs": [],
   "source": [
    "import time\n",
    "import argparse\n",
    "import cv2\n",
    "import itertools\n",
    "import os\n",
    "import numpy as np\n",
    "from numpy import dot\n",
    "from numpy.linalg import norm\n",
    "np.set_printoptions(precision=2)\n",
    "import openface\n",
    "from IPython.display import HTML, display,  Markdown"
   ]
  },
  {
   "cell_type": "markdown",
   "metadata": {},
   "source": [
    "# Import Model"
   ]
  },
  {
   "cell_type": "code",
   "execution_count": 60,
   "metadata": {},
   "outputs": [],
   "source": [
    "imgDim = 96"
   ]
  },
  {
   "cell_type": "code",
   "execution_count": 61,
   "metadata": {},
   "outputs": [],
   "source": [
    "fileDir = os.getcwd()\n",
    "modelDir = os.path.join(fileDir, '../openface/models')\n",
    "dlibModelDir = os.path.join(modelDir, 'dlib')\n",
    "openfaceModelDir = os.path.join(modelDir, 'openface')"
   ]
  },
  {
   "cell_type": "code",
   "execution_count": 62,
   "metadata": {},
   "outputs": [],
   "source": [
    "align = openface.AlignDlib(os.path.join(dlibModelDir, \"shape_predictor_68_face_landmarks.dat\"))\n",
    "net = openface.TorchNeuralNet(os.path.join(openfaceModelDir, 'nn4.small2.v1.t7'), imgDim)"
   ]
  },
  {
   "cell_type": "markdown",
   "metadata": {},
   "source": [
    "# Vectorization and Distance Function"
   ]
  },
  {
   "cell_type": "code",
   "execution_count": 63,
   "metadata": {},
   "outputs": [],
   "source": [
    "def get_embed(img):    \n",
    "    bgrImg = cv2.imread(img)\n",
    "    rgbImg = cv2.cvtColor(bgrImg, cv2.COLOR_BGR2RGB)\n",
    "    bb = align.getLargestFaceBoundingBox(rgbImg)\n",
    "    alignedFace = align.align(imgDim, rgbImg, bb, landmarkIndices=openface.AlignDlib.OUTER_EYES_AND_NOSE)\n",
    "    rep = net.forward(alignedFace)\n",
    "    return rep"
   ]
  },
  {
   "cell_type": "code",
   "execution_count": 87,
   "metadata": {
    "scrolled": true
   },
   "outputs": [],
   "source": [
    "def display_two(images):\n",
    "    d = calculate_distance(images)\n",
    "    display(HTML(\"<h1 style='text-align: center;'>\" + \"Similarity: \" + str(round(d*d*100, 2)) + \"%\" + \"</h1>\"))\n",
    "    display(HTML(\"<table style='margin:1em auto;'><tr><td><img src={} style='height:200px;'></td><td><img src={} style='height:200px;'></td></tr></table>\".\\\n",
    "                 format(images[0], images[1])))"
   ]
  },
  {
   "cell_type": "code",
   "execution_count": 88,
   "metadata": {},
   "outputs": [],
   "source": [
    "def calculate_distance(images):\n",
    "    rep1 = get_embed(images[0])\n",
    "    rep2 = get_embed(images[1])\n",
    "    cos_sim = dot(rep1, rep2)/(norm(rep1)*norm(rep2))\n",
    "    return cos_sim"
   ]
  },
  {
   "cell_type": "markdown",
   "metadata": {},
   "source": [
    "# Calculate Distance"
   ]
  },
  {
   "cell_type": "code",
   "execution_count": 102,
   "metadata": {},
   "outputs": [
    {
     "data": {
      "text/html": [
       "<h1 style='text-align: center;'>Similarity: 62.83%</h1>"
      ],
      "text/plain": [
       "<IPython.core.display.HTML object>"
      ]
     },
     "metadata": {},
     "output_type": "display_data"
    },
    {
     "data": {
      "text/html": [
       "<table style='margin:1em auto;'><tr><td><img src=./photos/shi_2.jpg style='height:200px;'></td><td><img src=./photos/bao.jpg style='height:200px;'></td></tr></table>"
      ],
      "text/plain": [
       "<IPython.core.display.HTML object>"
      ]
     },
     "metadata": {},
     "output_type": "display_data"
    }
   ],
   "source": [
    "images = ['./photos/shi_2.jpg', './photos/bao.jpg']\n",
    "display_two(images)"
   ]
  },
  {
   "cell_type": "code",
   "execution_count": 90,
   "metadata": {},
   "outputs": [
    {
     "data": {
      "text/html": [
       "<h1 style='text-align: center;'>Similarity: 11.42%</h1>"
      ],
      "text/plain": [
       "<IPython.core.display.HTML object>"
      ]
     },
     "metadata": {},
     "output_type": "display_data"
    },
    {
     "data": {
      "text/html": [
       "<table style='margin:1em auto;'><tr><td><img src=./photos/shi_2.jpg style='height:200px;'></td><td><img src=./photos/peng.jpg style='height:200px;'></td></tr></table>"
      ],
      "text/plain": [
       "<IPython.core.display.HTML object>"
      ]
     },
     "metadata": {},
     "output_type": "display_data"
    }
   ],
   "source": [
    "images = ['./photos/shi_2.jpg', './photos/peng.jpg']\n",
    "display_two(images)"
   ]
  },
  {
   "cell_type": "code",
   "execution_count": null,
   "metadata": {},
   "outputs": [],
   "source": []
  }
 ],
 "metadata": {
  "kernelspec": {
   "display_name": "Python 2",
   "language": "python",
   "name": "python2"
  },
  "language_info": {
   "codemirror_mode": {
    "name": "ipython",
    "version": 2
   },
   "file_extension": ".py",
   "mimetype": "text/x-python",
   "name": "python",
   "nbconvert_exporter": "python",
   "pygments_lexer": "ipython2",
   "version": "2.7.6"
  },
  "toc": {
   "base_numbering": 1,
   "nav_menu": {},
   "number_sections": true,
   "sideBar": true,
   "skip_h1_title": false,
   "title_cell": "Table of Contents",
   "title_sidebar": "Contents",
   "toc_cell": true,
   "toc_position": {},
   "toc_section_display": true,
   "toc_window_display": true
  }
 },
 "nbformat": 4,
 "nbformat_minor": 2
}
